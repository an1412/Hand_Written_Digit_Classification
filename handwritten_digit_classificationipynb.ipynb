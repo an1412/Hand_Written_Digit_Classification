{
  "nbformat": 4,
  "nbformat_minor": 0,
  "metadata": {
    "colab": {
      "provenance": []
    },
    "kernelspec": {
      "name": "python3",
      "display_name": "Python 3"
    },
    "language_info": {
      "name": "python"
    }
  },
  "cells": [
    {
      "cell_type": "code",
      "source": [
        "import tensorflow as tf\n",
        "from tensorflow import keras\n",
        "import matplotlib.pyplot as plt\n",
        "import numpy as np\n",
        "# Load the MNIST dataset\n",
        "(X_train, y_train), (X_test, y_test) = keras.datasets.mnist.load_data()\n",
        "# Normalize the pixel values to the range [0, 1]\n",
        "X_train = X_train / 255.0\n",
        "X_test = X_test / 255.0\n",
        "# Flatten the input data\n",
        "X_train = X_train.reshape(-1, 28 * 28)\n",
        "X_test = X_test.reshape(-1, 28 * 28)\n",
        "\n",
        "# Define the model architecture\n",
        "model = keras.models.Sequential([\n",
        "    keras.layers.Dense(128, activation='relu', input_shape=(28 * 28,)),\n",
        "    keras.layers.Dense(64, activation='relu'),\n",
        "    keras.layers.Dense(10, activation='softmax')\n",
        "])\n",
        "# Compile the model\n",
        "model.compile(optimizer='adam',\n",
        "              loss='sparse_categorical_crossentropy',\n",
        "              metrics=['accuracy'])\n",
        "# Train the model\n",
        "model.fit(X_train, y_train, epochs=5, batch_size=64, validation_split=0.1)\n",
        "# Evaluate the model on the test set\n",
        "test_loss, test_acc = model.evaluate(X_test, y_test)\n",
        "print('Test accuracy:', test_acc)\n",
        "# Choose a random test image\n",
        "index = np.random.randint(0, len(X_test))\n",
        "test_image = X_test[index]\n",
        "true_label = y_test[index]\n",
        "# Make a prediction\n",
        "prediction = np.argmax(model.predict(test_image.reshape(1, -1)))\n",
        "# Display the image and prediction\n",
        "plt.imshow(test_image.reshape(28, 28), cmap='gray')\n",
        "plt.title(f\"True Label: {true_label}, Predicted Label: {prediction}\")\n",
        "plt.axis('off')\n",
        "plt.show()"
      ],
      "metadata": {
        "colab": {
          "base_uri": "https://localhost:8080/",
          "height": 665
        },
        "id": "iSNMRgvmfPmx",
        "outputId": "6ae4a065-905a-4c29-f448-a92b3d8c8fbb"
      },
      "execution_count": null,
      "outputs": [
        {
          "output_type": "stream",
          "name": "stdout",
          "text": [
            "Epoch 1/5\n",
            "844/844 [==============================] - 6s 6ms/step - loss: 0.3023 - accuracy: 0.9152 - val_loss: 0.1283 - val_accuracy: 0.9635\n",
            "Epoch 2/5\n",
            "844/844 [==============================] - 4s 5ms/step - loss: 0.1211 - accuracy: 0.9642 - val_loss: 0.0925 - val_accuracy: 0.9737\n",
            "Epoch 3/5\n",
            "844/844 [==============================] - 4s 4ms/step - loss: 0.0851 - accuracy: 0.9746 - val_loss: 0.0902 - val_accuracy: 0.9733\n",
            "Epoch 4/5\n",
            "844/844 [==============================] - 4s 4ms/step - loss: 0.0625 - accuracy: 0.9801 - val_loss: 0.0752 - val_accuracy: 0.9783\n",
            "Epoch 5/5\n",
            "844/844 [==============================] - 5s 5ms/step - loss: 0.0494 - accuracy: 0.9844 - val_loss: 0.0738 - val_accuracy: 0.9785\n",
            "313/313 [==============================] - 1s 2ms/step - loss: 0.0796 - accuracy: 0.9751\n",
            "Test accuracy: 0.9750999808311462\n",
            "1/1 [==============================] - 0s 61ms/step\n"
          ]
        },
        {
          "output_type": "display_data",
          "data": {
            "text/plain": [
              "<Figure size 640x480 with 1 Axes>"
            ],
            "image/png": "[encoded data removed]"
          },
          "metadata": {}
        }
      ]
    }
  ]
}